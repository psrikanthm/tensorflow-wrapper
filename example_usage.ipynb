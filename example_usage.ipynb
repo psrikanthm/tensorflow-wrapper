{
 "cells": [
  {
   "cell_type": "code",
   "execution_count": null,
   "metadata": {
    "collapsed": false
   },
   "outputs": [],
   "source": [
    "from framework.classifier import Classifier\n",
    "from framework.pre_process import time_series_data\n",
    "from models.rnn2 import RNN"
   ]
  },
  {
   "cell_type": "code",
   "execution_count": null,
   "metadata": {
    "collapsed": false
   },
   "outputs": [],
   "source": [
    "# config file where the model parameters are declared\n",
    "clf = Classifier(\"configs/config_example_usage.json\") \n",
    "\n",
    "# pre-process the data using the time_series_data function, \n",
    "# which is the data format of example_data_file.npy whose location is specified in\n",
    "# \"datadir\" of config_example_usage.json\n",
    "Xtrain, ytrain, Xval, yval = clf.process_data(\"example_data_file.npy\", time_series_data)\n",
    "\n",
    "# define the model that you want to work with\n",
    "clf.initialize(RNN)\n",
    "\n",
    "# train the model \n",
    "#by default (save_model=False) don't save the trained model\n",
    "clf.fit(Xtrain, ytrain, save_model=False) \n",
    "\n",
    "# validate the model \n",
    "# by default (reuse_model=False) use clf.model instead of restoring from a file\n",
    "clf.validate(Xval, yval, reuse_model=False) "
   ]
  }
 ],
 "metadata": {
  "kernelspec": {
   "display_name": "Python 2",
   "language": "python",
   "name": "python2"
  },
  "language_info": {
   "codemirror_mode": {
    "name": "ipython",
    "version": 2
   },
   "file_extension": ".py",
   "mimetype": "text/x-python",
   "name": "python",
   "nbconvert_exporter": "python",
   "pygments_lexer": "ipython2",
   "version": "2.7.13"
  }
 },
 "nbformat": 4,
 "nbformat_minor": 2
}
